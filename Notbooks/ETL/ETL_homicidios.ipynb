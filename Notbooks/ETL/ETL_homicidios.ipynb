{
 "cells": [
  {
   "cell_type": "code",
   "execution_count": 314,
   "metadata": {},
   "outputs": [],
   "source": [
    "# Importar librerías\n",
    "import pandas as pd\n",
    "import matplotlib.pyplot as plt\n",
    "import seaborn as sns\n",
    "import warnings\n",
    "import numpy as np\n",
    "import re\n",
    "import pyproj"
   ]
  },
  {
   "cell_type": "code",
   "execution_count": 315,
   "metadata": {},
   "outputs": [],
   "source": [
    "data = pd.read_excel(\"homicidios.xlsx\")"
   ]
  },
  {
   "cell_type": "code",
   "execution_count": 316,
   "metadata": {},
   "outputs": [
    {
     "data": {
      "text/html": [
       "<div>\n",
       "<style scoped>\n",
       "    .dataframe tbody tr th:only-of-type {\n",
       "        vertical-align: middle;\n",
       "    }\n",
       "\n",
       "    .dataframe tbody tr th {\n",
       "        vertical-align: top;\n",
       "    }\n",
       "\n",
       "    .dataframe thead th {\n",
       "        text-align: right;\n",
       "    }\n",
       "</style>\n",
       "<table border=\"1\" class=\"dataframe\">\n",
       "  <thead>\n",
       "    <tr style=\"text-align: right;\">\n",
       "      <th></th>\n",
       "      <th>ID</th>\n",
       "      <th>N_VICTIMAS</th>\n",
       "      <th>FECHA</th>\n",
       "      <th>AAAA</th>\n",
       "      <th>MM</th>\n",
       "      <th>DD</th>\n",
       "      <th>HORA</th>\n",
       "      <th>HH</th>\n",
       "      <th>LUGAR_DEL_HECHO</th>\n",
       "      <th>TIPO_DE_CALLE</th>\n",
       "      <th>...</th>\n",
       "      <th>Altura</th>\n",
       "      <th>Cruce</th>\n",
       "      <th>Dirección Normalizada</th>\n",
       "      <th>COMUNA</th>\n",
       "      <th>XY (CABA)</th>\n",
       "      <th>pos x</th>\n",
       "      <th>pos y</th>\n",
       "      <th>PARTICIPANTES</th>\n",
       "      <th>VICTIMA</th>\n",
       "      <th>ACUSADO</th>\n",
       "    </tr>\n",
       "  </thead>\n",
       "  <tbody>\n",
       "    <tr>\n",
       "      <th>0</th>\n",
       "      <td>2016-0001</td>\n",
       "      <td>1</td>\n",
       "      <td>2016-01-01</td>\n",
       "      <td>2016</td>\n",
       "      <td>1</td>\n",
       "      <td>1</td>\n",
       "      <td>04:00:00</td>\n",
       "      <td>4</td>\n",
       "      <td>AV PIEDRA BUENA Y AV FERNANDEZ DE LA CRUZ</td>\n",
       "      <td>AVENIDA</td>\n",
       "      <td>...</td>\n",
       "      <td>NaN</td>\n",
       "      <td>FERNANDEZ DE LA CRUZ, F., GRAL. AV.</td>\n",
       "      <td>PIEDRA BUENA AV. y FERNANDEZ DE LA CRUZ, F., G...</td>\n",
       "      <td>8</td>\n",
       "      <td>Point (98896.78238426 93532.43437792)</td>\n",
       "      <td>-58.47533969</td>\n",
       "      <td>-34.68757022</td>\n",
       "      <td>MOTO-AUTO</td>\n",
       "      <td>MOTO</td>\n",
       "      <td>AUTO</td>\n",
       "    </tr>\n",
       "    <tr>\n",
       "      <th>1</th>\n",
       "      <td>2016-0002</td>\n",
       "      <td>1</td>\n",
       "      <td>2016-01-02</td>\n",
       "      <td>2016</td>\n",
       "      <td>1</td>\n",
       "      <td>2</td>\n",
       "      <td>01:15:00</td>\n",
       "      <td>1</td>\n",
       "      <td>AV GRAL PAZ  Y AV DE LOS CORRALES</td>\n",
       "      <td>GRAL PAZ</td>\n",
       "      <td>...</td>\n",
       "      <td>NaN</td>\n",
       "      <td>DE LOS CORRALES AV.</td>\n",
       "      <td>PAZ, GRAL. AV. y DE LOS CORRALES AV.</td>\n",
       "      <td>9</td>\n",
       "      <td>Point (95832.05571093 95505.41641999)</td>\n",
       "      <td>-58.50877521</td>\n",
       "      <td>-34.66977709</td>\n",
       "      <td>AUTO-PASAJEROS</td>\n",
       "      <td>AUTO</td>\n",
       "      <td>PASAJEROS</td>\n",
       "    </tr>\n",
       "    <tr>\n",
       "      <th>2</th>\n",
       "      <td>2016-0003</td>\n",
       "      <td>1</td>\n",
       "      <td>2016-01-03</td>\n",
       "      <td>2016</td>\n",
       "      <td>1</td>\n",
       "      <td>3</td>\n",
       "      <td>07:00:00</td>\n",
       "      <td>7</td>\n",
       "      <td>AV ENTRE RIOS 2034</td>\n",
       "      <td>AVENIDA</td>\n",
       "      <td>...</td>\n",
       "      <td>2034.0</td>\n",
       "      <td>NaN</td>\n",
       "      <td>ENTRE RIOS AV. 2034</td>\n",
       "      <td>1</td>\n",
       "      <td>Point (106684.29090040 99706.57687843)</td>\n",
       "      <td>-58.39040293</td>\n",
       "      <td>-34.63189362</td>\n",
       "      <td>MOTO-AUTO</td>\n",
       "      <td>MOTO</td>\n",
       "      <td>AUTO</td>\n",
       "    </tr>\n",
       "    <tr>\n",
       "      <th>3</th>\n",
       "      <td>2016-0004</td>\n",
       "      <td>1</td>\n",
       "      <td>2016-01-10</td>\n",
       "      <td>2016</td>\n",
       "      <td>1</td>\n",
       "      <td>10</td>\n",
       "      <td>00:00:00</td>\n",
       "      <td>0</td>\n",
       "      <td>AV LARRAZABAL Y GRAL VILLEGAS CONRADO</td>\n",
       "      <td>AVENIDA</td>\n",
       "      <td>...</td>\n",
       "      <td>NaN</td>\n",
       "      <td>VILLEGAS, CONRADO, GRAL.</td>\n",
       "      <td>LARRAZABAL AV. y VILLEGAS, CONRADO, GRAL.</td>\n",
       "      <td>8</td>\n",
       "      <td>Point (99840.65224780 94269.16534422)</td>\n",
       "      <td>-58.46503904</td>\n",
       "      <td>-34.68092974</td>\n",
       "      <td>MOTO-SD</td>\n",
       "      <td>MOTO</td>\n",
       "      <td>SD</td>\n",
       "    </tr>\n",
       "    <tr>\n",
       "      <th>4</th>\n",
       "      <td>2016-0005</td>\n",
       "      <td>1</td>\n",
       "      <td>2016-01-21</td>\n",
       "      <td>2016</td>\n",
       "      <td>1</td>\n",
       "      <td>21</td>\n",
       "      <td>05:20:00</td>\n",
       "      <td>5</td>\n",
       "      <td>AV SAN JUAN Y PRESIDENTE LUIS SAENZ PEÑA</td>\n",
       "      <td>AVENIDA</td>\n",
       "      <td>...</td>\n",
       "      <td>NaN</td>\n",
       "      <td>SAENZ PE?A, LUIS, PRES.</td>\n",
       "      <td>SAN JUAN AV. y SAENZ PEÃ‘A, LUIS, PRES.</td>\n",
       "      <td>1</td>\n",
       "      <td>Point (106980.32827929 100752.16915795)</td>\n",
       "      <td>-58.38718297</td>\n",
       "      <td>-34.62246630</td>\n",
       "      <td>MOTO-PASAJEROS</td>\n",
       "      <td>MOTO</td>\n",
       "      <td>PASAJEROS</td>\n",
       "    </tr>\n",
       "  </tbody>\n",
       "</table>\n",
       "<p>5 rows × 21 columns</p>\n",
       "</div>"
      ],
      "text/plain": [
       "          ID  N_VICTIMAS      FECHA  AAAA  MM  DD      HORA HH  \\\n",
       "0  2016-0001           1 2016-01-01  2016   1   1  04:00:00  4   \n",
       "1  2016-0002           1 2016-01-02  2016   1   2  01:15:00  1   \n",
       "2  2016-0003           1 2016-01-03  2016   1   3  07:00:00  7   \n",
       "3  2016-0004           1 2016-01-10  2016   1  10  00:00:00  0   \n",
       "4  2016-0005           1 2016-01-21  2016   1  21  05:20:00  5   \n",
       "\n",
       "                             LUGAR_DEL_HECHO TIPO_DE_CALLE  ...  Altura  \\\n",
       "0  AV PIEDRA BUENA Y AV FERNANDEZ DE LA CRUZ       AVENIDA  ...     NaN   \n",
       "1          AV GRAL PAZ  Y AV DE LOS CORRALES      GRAL PAZ  ...     NaN   \n",
       "2                         AV ENTRE RIOS 2034       AVENIDA  ...  2034.0   \n",
       "3      AV LARRAZABAL Y GRAL VILLEGAS CONRADO       AVENIDA  ...     NaN   \n",
       "4  AV SAN JUAN Y PRESIDENTE LUIS SAENZ PEÑA        AVENIDA  ...     NaN   \n",
       "\n",
       "                                 Cruce  \\\n",
       "0  FERNANDEZ DE LA CRUZ, F., GRAL. AV.   \n",
       "1                  DE LOS CORRALES AV.   \n",
       "2                                  NaN   \n",
       "3             VILLEGAS, CONRADO, GRAL.   \n",
       "4              SAENZ PE?A, LUIS, PRES.   \n",
       "\n",
       "                               Dirección Normalizada COMUNA  \\\n",
       "0  PIEDRA BUENA AV. y FERNANDEZ DE LA CRUZ, F., G...      8   \n",
       "1               PAZ, GRAL. AV. y DE LOS CORRALES AV.      9   \n",
       "2                                ENTRE RIOS AV. 2034      1   \n",
       "3          LARRAZABAL AV. y VILLEGAS, CONRADO, GRAL.      8   \n",
       "4            SAN JUAN AV. y SAENZ PEÃ‘A, LUIS, PRES.      1   \n",
       "\n",
       "                                 XY (CABA)         pos x         pos y  \\\n",
       "0    Point (98896.78238426 93532.43437792)  -58.47533969  -34.68757022   \n",
       "1    Point (95832.05571093 95505.41641999)  -58.50877521  -34.66977709   \n",
       "2   Point (106684.29090040 99706.57687843)  -58.39040293  -34.63189362   \n",
       "3    Point (99840.65224780 94269.16534422)  -58.46503904  -34.68092974   \n",
       "4  Point (106980.32827929 100752.16915795)  -58.38718297  -34.62246630   \n",
       "\n",
       "    PARTICIPANTES VICTIMA    ACUSADO  \n",
       "0       MOTO-AUTO    MOTO       AUTO  \n",
       "1  AUTO-PASAJEROS    AUTO  PASAJEROS  \n",
       "2       MOTO-AUTO    MOTO       AUTO  \n",
       "3         MOTO-SD    MOTO         SD  \n",
       "4  MOTO-PASAJEROS    MOTO  PASAJEROS  \n",
       "\n",
       "[5 rows x 21 columns]"
      ]
     },
     "execution_count": 316,
     "metadata": {},
     "output_type": "execute_result"
    }
   ],
   "source": [
    "data.shape\n",
    "data.head()\n"
   ]
  },
  {
   "cell_type": "code",
   "execution_count": 310,
   "metadata": {},
   "outputs": [
    {
     "name": "stdout",
     "output_type": "stream",
     "text": [
      "<class 'pandas.core.frame.DataFrame'>\n",
      "RangeIndex: 696 entries, 0 to 695\n",
      "Data columns (total 21 columns):\n",
      " #   Column                 Non-Null Count  Dtype         \n",
      "---  ------                 --------------  -----         \n",
      " 0   ID                     696 non-null    object        \n",
      " 1   N_VICTIMAS             696 non-null    int64         \n",
      " 2   FECHA                  696 non-null    datetime64[ns]\n",
      " 3   AAAA                   696 non-null    int64         \n",
      " 4   MM                     696 non-null    int64         \n",
      " 5   DD                     696 non-null    int64         \n",
      " 6   HORA                   696 non-null    object        \n",
      " 7   HH                     696 non-null    object        \n",
      " 8   LUGAR_DEL_HECHO        696 non-null    object        \n",
      " 9   TIPO_DE_CALLE          696 non-null    object        \n",
      " 10  Calle                  695 non-null    object        \n",
      " 11  Altura                 129 non-null    float64       \n",
      " 12  Cruce                  525 non-null    object        \n",
      " 13  Dirección Normalizada  688 non-null    object        \n",
      " 14  COMUNA                 696 non-null    int64         \n",
      " 15  XY (CABA)              696 non-null    object        \n",
      " 16  pos x                  696 non-null    object        \n",
      " 17  pos y                  696 non-null    object        \n",
      " 18  PARTICIPANTES          696 non-null    object        \n",
      " 19  VICTIMA                696 non-null    object        \n",
      " 20  ACUSADO                696 non-null    object        \n",
      "dtypes: datetime64[ns](1), float64(1), int64(5), object(14)\n",
      "memory usage: 114.3+ KB\n"
     ]
    }
   ],
   "source": [
    "# Veamos las variables categóricas y las numéricas\n",
    "data.info()"
   ]
  },
  {
   "cell_type": "markdown",
   "metadata": {},
   "source": [
    "#4. Limpieza\n",
    "\n",
    "Realizaremos el proceso de limpieza teniendo en cuenta las situaciones más comunes:\n",
    "\n",
    "1. Datos faltantes en algunas celdas\n",
    "2. Columnas irrelevantes (que no responden al problema que queremos resolver)\n",
    "3. Registros (filas) repetidos\n",
    "4. Valores extremos (*outliers*) en el caso de las variables numéricas. Se deben analizar en detalle pues no necesariamente la solución es eliminarlos\n",
    "5. Errores tipográficos en el caso de las variables categóricas\n",
    "\n",
    "Al final de este proceso de limpieza deberíamos tener un set de datos **íntegro**, listo para la fase de Análisis Exploratorio."
   ]
  },
  {
   "cell_type": "code",
   "execution_count": 317,
   "metadata": {},
   "outputs": [
    {
     "data": {
      "text/plain": [
       "ID                         0\n",
       "N_VICTIMAS                 0\n",
       "FECHA                      0\n",
       "AAAA                       0\n",
       "MM                         0\n",
       "DD                         0\n",
       "HORA                       0\n",
       "HH                         0\n",
       "LUGAR_DEL_HECHO            0\n",
       "TIPO_DE_CALLE              0\n",
       "Calle                      1\n",
       "Altura                   567\n",
       "Cruce                    171\n",
       "Dirección Normalizada      8\n",
       "COMUNA                     0\n",
       "XY (CABA)                  0\n",
       "pos x                      0\n",
       "pos y                      0\n",
       "PARTICIPANTES              0\n",
       "VICTIMA                    0\n",
       "ACUSADO                    0\n",
       "dtype: int64"
      ]
     },
     "execution_count": 317,
     "metadata": {},
     "output_type": "execute_result"
    }
   ],
   "source": [
    "data.isnull().sum()"
   ]
  },
  {
   "cell_type": "markdown",
   "metadata": {},
   "source": [
    "# 4.1 Datos faltantes\n",
    "\n",
    "Acá comenzamos a ver que los datos no están completos, pues no todas las columnas tienen la misma cantidad de registros.\n",
    "\n",
    "El número total de registros debería ser 696. Sin embargo columnas como \"altura\", \"cruce\", \"calle\" y \"direccion_normalizada\" les faltan unos datos. \n",
    "\n",
    "Por ser tan pocos los datos  faltantes optaremos por eliminar las filas correspondientes: \"cruce\", \"calle\" y \"direccion_normalizada\", la columna altura  se llenara con valor 0.\n",
    "EXisten valores \"SD\" en las columnas \"ACUSADO\" Y \"VICTIMA\" se eliminara del DF.\n"
   ]
  },
  {
   "cell_type": "code",
   "execution_count": 318,
   "metadata": {},
   "outputs": [
    {
     "data": {
      "text/plain": [
       "ID                         0\n",
       "N_VICTIMAS                 0\n",
       "FECHA                      0\n",
       "AAAA                       0\n",
       "MM                         0\n",
       "DD                         0\n",
       "HORA                       0\n",
       "HH                         0\n",
       "LUGAR_DEL_HECHO            0\n",
       "TIPO_DE_CALLE              0\n",
       "Calle                      1\n",
       "Altura                   567\n",
       "Cruce                    171\n",
       "Dirección Normalizada      8\n",
       "COMUNA                     0\n",
       "XY (CABA)                  0\n",
       "pos x                      0\n",
       "pos y                      0\n",
       "PARTICIPANTES              0\n",
       "VICTIMA                    0\n",
       "ACUSADO                    0\n",
       "dtype: int64"
      ]
     },
     "execution_count": 318,
     "metadata": {},
     "output_type": "execute_result"
    }
   ],
   "source": [
    "data.isnull().sum()"
   ]
  },
  {
   "cell_type": "code",
   "execution_count": 320,
   "metadata": {},
   "outputs": [],
   "source": [
    "data.dropna(subset=['Calle', 'Cruce', \"Dirección Normalizada\"], inplace=True)\n"
   ]
  },
  {
   "cell_type": "code",
   "execution_count": 321,
   "metadata": {},
   "outputs": [],
   "source": [
    "# Filtrar los registros donde 'VICTIMA' o 'ACUSADO' tengan valor 'SD'\n",
    "filtered_data = data.loc[(data['VICTIMA'] != 'SD') & (data['ACUSADO'] != 'SD')]\n"
   ]
  },
  {
   "cell_type": "code",
   "execution_count": 322,
   "metadata": {},
   "outputs": [],
   "source": [
    "data = data.loc[(data['VICTIMA'] != 'SD') & (data['ACUSADO'] != 'SD')]"
   ]
  },
  {
   "cell_type": "code",
   "execution_count": 323,
   "metadata": {},
   "outputs": [
    {
     "name": "stdout",
     "output_type": "stream",
     "text": [
      "<class 'pandas.core.frame.DataFrame'>\n",
      "Index: 506 entries, 0 to 693\n",
      "Data columns (total 21 columns):\n",
      " #   Column                 Non-Null Count  Dtype         \n",
      "---  ------                 --------------  -----         \n",
      " 0   ID                     506 non-null    object        \n",
      " 1   N_VICTIMAS             506 non-null    int64         \n",
      " 2   FECHA                  506 non-null    datetime64[ns]\n",
      " 3   AAAA                   506 non-null    int64         \n",
      " 4   MM                     506 non-null    int64         \n",
      " 5   DD                     506 non-null    int64         \n",
      " 6   HORA                   506 non-null    object        \n",
      " 7   HH                     506 non-null    object        \n",
      " 8   LUGAR_DEL_HECHO        506 non-null    object        \n",
      " 9   TIPO_DE_CALLE          506 non-null    object        \n",
      " 10  Calle                  506 non-null    object        \n",
      " 11  Altura                 0 non-null      float64       \n",
      " 12  Cruce                  506 non-null    object        \n",
      " 13  Dirección Normalizada  506 non-null    object        \n",
      " 14  COMUNA                 506 non-null    int64         \n",
      " 15  XY (CABA)              506 non-null    object        \n",
      " 16  pos x                  506 non-null    object        \n",
      " 17  pos y                  506 non-null    object        \n",
      " 18  PARTICIPANTES          506 non-null    object        \n",
      " 19  VICTIMA                506 non-null    object        \n",
      " 20  ACUSADO                506 non-null    object        \n",
      "dtypes: datetime64[ns](1), float64(1), int64(5), object(14)\n",
      "memory usage: 87.0+ KB\n"
     ]
    }
   ],
   "source": [
    "data.info()"
   ]
  },
  {
   "cell_type": "markdown",
   "metadata": {},
   "source": [
    "Se elimina la columna altura porque al hacer el drop, esta columna queda sin datos "
   ]
  },
  {
   "cell_type": "code",
   "execution_count": 324,
   "metadata": {},
   "outputs": [],
   "source": [
    "# Eliminar la columna 'Altura' si no contiene valores válidos\n",
    "data = data.drop(columns=['Altura'])"
   ]
  },
  {
   "cell_type": "markdown",
   "metadata": {},
   "source": [
    "# 4.2 Columnas irrelevantes\n",
    "En este caso no contamos con columnas categoricas y numéricas  de un solo nivel, sin embargo,  se cuenta con columnas con informacion  reduntante, tenemos una columna fecha, otras columnas que separan la fecha por columnas año, mes, y dia. Ademas contamos con la columna hora que tiene el formato 00:00 y hh con forato 00. Se cuenta con \"cruce\" y \"Direccion Normalizada\" que contienen los mismos datos. \n",
    "Eliminare estas columnas por que para efectos del analisis si necesito el lugar de mas accidentalidad podre usar las columnas \"Lugar del hecho\" y \"Tipo de Calle\".\n",
    "Tengo dudas aún de la funcionalidad de las columnas, si pueden ser relevante o no,  las voy a dejar (y más adelante en posteriores etapas podre darme cuenta de si se debe preservar o no).\n"
   ]
  },
  {
   "cell_type": "code",
   "execution_count": 325,
   "metadata": {},
   "outputs": [
    {
     "data": {
      "text/plain": [
       "Index(['ID', 'N_VICTIMAS', 'FECHA', 'AAAA', 'MM', 'DD', 'HORA', 'HH',\n",
       "       'LUGAR_DEL_HECHO', 'TIPO_DE_CALLE', 'Calle', 'Cruce',\n",
       "       'Dirección Normalizada', 'COMUNA', 'XY (CABA)', 'pos x', 'pos y',\n",
       "       'PARTICIPANTES', 'VICTIMA', 'ACUSADO'],\n",
       "      dtype='object')"
      ]
     },
     "execution_count": 325,
     "metadata": {},
     "output_type": "execute_result"
    }
   ],
   "source": [
    "data.columns"
   ]
  },
  {
   "cell_type": "code",
   "execution_count": 326,
   "metadata": {},
   "outputs": [
    {
     "name": "stdout",
     "output_type": "stream",
     "text": [
      "<class 'pandas.core.frame.DataFrame'>\n",
      "Index: 506 entries, 0 to 693\n",
      "Data columns (total 20 columns):\n",
      " #   Column                 Non-Null Count  Dtype         \n",
      "---  ------                 --------------  -----         \n",
      " 0   ID                     506 non-null    object        \n",
      " 1   N_VICTIMAS             506 non-null    int64         \n",
      " 2   FECHA                  506 non-null    datetime64[ns]\n",
      " 3   AAAA                   506 non-null    int64         \n",
      " 4   MM                     506 non-null    int64         \n",
      " 5   DD                     506 non-null    int64         \n",
      " 6   HORA                   506 non-null    object        \n",
      " 7   HH                     506 non-null    object        \n",
      " 8   LUGAR_DEL_HECHO        506 non-null    object        \n",
      " 9   TIPO_DE_CALLE          506 non-null    object        \n",
      " 10  Calle                  506 non-null    object        \n",
      " 11  Cruce                  506 non-null    object        \n",
      " 12  Dirección Normalizada  506 non-null    object        \n",
      " 13  COMUNA                 506 non-null    int64         \n",
      " 14  XY (CABA)              506 non-null    object        \n",
      " 15  pos x                  506 non-null    object        \n",
      " 16  pos y                  506 non-null    object        \n",
      " 17  PARTICIPANTES          506 non-null    object        \n",
      " 18  VICTIMA                506 non-null    object        \n",
      " 19  ACUSADO                506 non-null    object        \n",
      "dtypes: datetime64[ns](1), int64(5), object(14)\n",
      "memory usage: 83.0+ KB\n"
     ]
    }
   ],
   "source": [
    "data.info()"
   ]
  },
  {
   "cell_type": "code",
   "execution_count": 327,
   "metadata": {},
   "outputs": [
    {
     "name": "stdout",
     "output_type": "stream",
     "text": [
      "Columna ID: 506 subniveles\n",
      "Columna HORA: 299 subniveles\n",
      "Columna HH: 25 subniveles\n",
      "Columna LUGAR_DEL_HECHO: 495 subniveles\n",
      "Columna TIPO_DE_CALLE: 4 subniveles\n",
      "Columna Dirección Normalizada: 465 subniveles\n",
      "Columna XY (CABA): 440 subniveles\n",
      "Columna pos x: 440 subniveles\n",
      "Columna pos y: 440 subniveles\n",
      "Columna PARTICIPANTES: 31 subniveles\n",
      "Columna VICTIMA: 9 subniveles\n",
      "Columna ACUSADO: 9 subniveles\n"
     ]
    }
   ],
   "source": [
    "# Conteo de los niveles en las diferentes columnas categóricas\n",
    "cols_cat = ['ID', 'HORA', 'HH', 'LUGAR_DEL_HECHO', 'TIPO_DE_CALLE', 'Dirección Normalizada', 'XY (CABA)', 'pos x', 'pos y','PARTICIPANTES', 'VICTIMA', 'ACUSADO'  ]\n",
    "\n",
    "for col in cols_cat:\n",
    "  print(f'Columna {col}: {data[col].nunique()} subniveles')"
   ]
  },
  {
   "cell_type": "markdown",
   "metadata": {},
   "source": [
    "Todas las columnas categóricas tienen más de 1 subnivel. Se eliminaran las columnas \"Calle\" \"Cruce\" y \"Dirección Normalizada\"\n",
    "\n",
    "Verifiquemos lo que ocurre con las columnas numéricas: pero antes voy a cambiar de tipo de dato a las columnas HORA, HH, POS X, POS Y"
   ]
  },
  {
   "cell_type": "code",
   "execution_count": 328,
   "metadata": {},
   "outputs": [],
   "source": [
    "data = data.drop(columns=[\"Cruce\"])"
   ]
  },
  {
   "cell_type": "code",
   "execution_count": 329,
   "metadata": {},
   "outputs": [],
   "source": [
    "data = data.drop(columns=[\"Calle\"])"
   ]
  },
  {
   "cell_type": "code",
   "execution_count": 330,
   "metadata": {},
   "outputs": [
    {
     "name": "stdout",
     "output_type": "stream",
     "text": [
      "<class 'pandas.core.frame.DataFrame'>\n",
      "Index: 506 entries, 0 to 693\n",
      "Data columns (total 18 columns):\n",
      " #   Column                 Non-Null Count  Dtype         \n",
      "---  ------                 --------------  -----         \n",
      " 0   ID                     506 non-null    object        \n",
      " 1   N_VICTIMAS             506 non-null    int64         \n",
      " 2   FECHA                  506 non-null    datetime64[ns]\n",
      " 3   AAAA                   506 non-null    int64         \n",
      " 4   MM                     506 non-null    int64         \n",
      " 5   DD                     506 non-null    int64         \n",
      " 6   HORA                   506 non-null    object        \n",
      " 7   HH                     506 non-null    object        \n",
      " 8   LUGAR_DEL_HECHO        506 non-null    object        \n",
      " 9   TIPO_DE_CALLE          506 non-null    object        \n",
      " 10  Dirección Normalizada  506 non-null    object        \n",
      " 11  COMUNA                 506 non-null    int64         \n",
      " 12  XY (CABA)              506 non-null    object        \n",
      " 13  pos x                  506 non-null    object        \n",
      " 14  pos y                  506 non-null    object        \n",
      " 15  PARTICIPANTES          506 non-null    object        \n",
      " 16  VICTIMA                506 non-null    object        \n",
      " 17  ACUSADO                506 non-null    object        \n",
      "dtypes: datetime64[ns](1), int64(5), object(12)\n",
      "memory usage: 75.1+ KB\n"
     ]
    }
   ],
   "source": [
    "data.info()"
   ]
  },
  {
   "cell_type": "code",
   "execution_count": 331,
   "metadata": {},
   "outputs": [
    {
     "name": "stdout",
     "output_type": "stream",
     "text": [
      "    HORA  HH\n",
      "518   SD  SD\n"
     ]
    }
   ],
   "source": [
    "# Filtrar filas donde los valores de 'HORA' o 'HH' son 'SD'\n",
    "filas_sd = data[(data['HORA'] == 'SD') | (data['HH'] == 'SD')]\n",
    "\n",
    "# Mostrar las filas con 'SD' en las columnas 'HORA' o 'HH'\n",
    "print(filas_sd[['HORA', 'HH']])"
   ]
  },
  {
   "cell_type": "code",
   "execution_count": 332,
   "metadata": {},
   "outputs": [],
   "source": [
    "# Eliminar la fila donde tanto 'HORA' como 'HH' son 'SD'\n",
    "data = data[~((data['HORA'] == 'SD') & (data['HH'] == 'SD'))]"
   ]
  },
  {
   "cell_type": "code",
   "execution_count": 333,
   "metadata": {},
   "outputs": [
    {
     "name": "stdout",
     "output_type": "stream",
     "text": [
      "Empty DataFrame\n",
      "Columns: [ID, N_VICTIMAS, FECHA, AAAA, MM, DD, HORA, HH, LUGAR_DEL_HECHO, TIPO_DE_CALLE, Dirección Normalizada, COMUNA, XY (CABA), pos x, pos y, PARTICIPANTES, VICTIMA, ACUSADO]\n",
      "Index: []\n"
     ]
    }
   ],
   "source": [
    "print(data[(data['HORA'] == 'SD') & (data['HH'] == 'SD')])"
   ]
  },
  {
   "cell_type": "code",
   "execution_count": 334,
   "metadata": {},
   "outputs": [
    {
     "name": "stdout",
     "output_type": "stream",
     "text": [
      "<class 'pandas.core.frame.DataFrame'>\n",
      "Index: 505 entries, 0 to 693\n",
      "Data columns (total 18 columns):\n",
      " #   Column                 Non-Null Count  Dtype         \n",
      "---  ------                 --------------  -----         \n",
      " 0   ID                     505 non-null    object        \n",
      " 1   N_VICTIMAS             505 non-null    int64         \n",
      " 2   FECHA                  505 non-null    datetime64[ns]\n",
      " 3   AAAA                   505 non-null    int64         \n",
      " 4   MM                     505 non-null    int64         \n",
      " 5   DD                     505 non-null    int64         \n",
      " 6   HORA                   505 non-null    object        \n",
      " 7   HH                     505 non-null    object        \n",
      " 8   LUGAR_DEL_HECHO        505 non-null    object        \n",
      " 9   TIPO_DE_CALLE          505 non-null    object        \n",
      " 10  Dirección Normalizada  505 non-null    object        \n",
      " 11  COMUNA                 505 non-null    int64         \n",
      " 12  XY (CABA)              505 non-null    object        \n",
      " 13  pos x                  505 non-null    object        \n",
      " 14  pos y                  505 non-null    object        \n",
      " 15  PARTICIPANTES          505 non-null    object        \n",
      " 16  VICTIMA                505 non-null    object        \n",
      " 17  ACUSADO                505 non-null    object        \n",
      "dtypes: datetime64[ns](1), int64(5), object(12)\n",
      "memory usage: 75.0+ KB\n"
     ]
    }
   ],
   "source": [
    "data.info()"
   ]
  },
  {
   "cell_type": "code",
   "execution_count": 335,
   "metadata": {},
   "outputs": [],
   "source": [
    "# Convertir la columna HORA a string (incluyendo NaN, los cuales se convertirán en 'nan')\n",
    "data['HORA'] = data['HORA'].astype(str)"
   ]
  },
  {
   "cell_type": "code",
   "execution_count": 336,
   "metadata": {},
   "outputs": [],
   "source": [
    "# Verificar los valores que no coinciden con el formato 'HH:MM:SS'\n",
    "invalid_values = data['HORA'][data['HORA'].str.match(r'^\\d{2}:\\d{2}:\\d{2}$') == False]"
   ]
  },
  {
   "cell_type": "code",
   "execution_count": 337,
   "metadata": {},
   "outputs": [
    {
     "name": "stdout",
     "output_type": "stream",
     "text": [
      "496    1900-01-04 18:40:00\n",
      "Name: HORA, dtype: object\n"
     ]
    }
   ],
   "source": [
    "print(invalid_values)"
   ]
  },
  {
   "cell_type": "code",
   "execution_count": 338,
   "metadata": {},
   "outputs": [
    {
     "name": "stdout",
     "output_type": "stream",
     "text": [
      "0     04:00:00\n",
      "1     01:15:00\n",
      "4     05:20:00\n",
      "5     18:30:00\n",
      "6     19:10:00\n",
      "7     15:20:00\n",
      "8     01:20:00\n",
      "10    05:14:00\n",
      "11    22:00:00\n",
      "12    16:54:00\n",
      "Name: HORA, dtype: object\n"
     ]
    }
   ],
   "source": [
    "# Intentar convertir la columna 'HORA' a hora (sin la parte de la fecha)\n",
    "data['HORA'] = pd.to_datetime(data['HORA'], format='%H:%M:%S', errors='coerce').dt.time\n",
    "\n",
    "# Verificar los resultados\n",
    "print(data['HORA'].head(10))\n"
   ]
  },
  {
   "cell_type": "code",
   "execution_count": 339,
   "metadata": {},
   "outputs": [
    {
     "name": "stdout",
     "output_type": "stream",
     "text": [
      "0     04:00:00\n",
      "1     01:15:00\n",
      "4     05:20:00\n",
      "5     18:30:00\n",
      "6     19:10:00\n",
      "7     15:20:00\n",
      "8     01:20:00\n",
      "10    05:14:00\n",
      "11    22:00:00\n",
      "12    16:54:00\n",
      "Name: HORA, dtype: object\n"
     ]
    }
   ],
   "source": [
    "# Reemplazar los valores NaT (Not a Time) con '00:00:00'\n",
    "data['HORA'] = data['HORA'].fillna('00:00:00')\n",
    "\n",
    "# Verificar nuevamente los resultados\n",
    "print(data['HORA'].head(10))"
   ]
  },
  {
   "cell_type": "code",
   "execution_count": 340,
   "metadata": {},
   "outputs": [
    {
     "name": "stdout",
     "output_type": "stream",
     "text": [
      "Valores no válidos en la columna 'HORA':\n",
      "Series([], Name: HORA, dtype: object)\n"
     ]
    }
   ],
   "source": [
    "# Verificar los valores que no coinciden con el formato 'HH:MM:SS'\n",
    "invalid_values = data['HORA'][data['HORA'].apply(lambda x: isinstance(x, str) and not re.match(r'^\\d{2}:\\d{2}:\\d{2}$', x))]\n",
    "\n",
    "print(\"Valores no válidos en la columna 'HORA':\")\n",
    "print(invalid_values)"
   ]
  },
  {
   "cell_type": "code",
   "execution_count": 341,
   "metadata": {},
   "outputs": [
    {
     "name": "stdout",
     "output_type": "stream",
     "text": [
      "0    04:00:00\n",
      "1    01:15:00\n",
      "4    05:20:00\n",
      "5    18:30:00\n",
      "6    19:10:00\n",
      "Name: HORA, dtype: object\n"
     ]
    }
   ],
   "source": [
    "print(data['HORA'].head())"
   ]
  },
  {
   "cell_type": "code",
   "execution_count": 342,
   "metadata": {},
   "outputs": [
    {
     "name": "stdout",
     "output_type": "stream",
     "text": [
      "HORA\n",
      "<class 'datetime.time'>    504\n",
      "<class 'str'>                1\n",
      "Name: count, dtype: int64\n"
     ]
    }
   ],
   "source": [
    "# Verificar los tipos de datos de los valores en la columna 'HORA'\n",
    "print(data['HORA'].apply(type).value_counts())"
   ]
  },
  {
   "cell_type": "code",
   "execution_count": 343,
   "metadata": {},
   "outputs": [
    {
     "name": "stdout",
     "output_type": "stream",
     "text": [
      "496    00:00:00\n",
      "Name: HORA, dtype: object\n"
     ]
    }
   ],
   "source": [
    "# Verificar el valor específico que no fue convertido correctamente\n",
    "print(data[data['HORA'].apply(type) == str]['HORA'])\n"
   ]
  },
  {
   "cell_type": "code",
   "execution_count": 344,
   "metadata": {},
   "outputs": [
    {
     "name": "stdout",
     "output_type": "stream",
     "text": [
      "HORA\n",
      "<class 'datetime.time'>    504\n",
      "Name: count, dtype: int64\n"
     ]
    }
   ],
   "source": [
    "# Eliminar la fila con el valor '00:00:00' en la columna 'HORA'\n",
    "data = data[data['HORA'] != '00:00:00']\n",
    "\n",
    "# Verificar que la fila se haya eliminado\n",
    "print(data['HORA'].apply(type).value_counts())"
   ]
  },
  {
   "cell_type": "code",
   "execution_count": 345,
   "metadata": {},
   "outputs": [
    {
     "name": "stdout",
     "output_type": "stream",
     "text": [
      "<class 'pandas.core.frame.DataFrame'>\n",
      "Index: 504 entries, 0 to 693\n",
      "Data columns (total 18 columns):\n",
      " #   Column                 Non-Null Count  Dtype         \n",
      "---  ------                 --------------  -----         \n",
      " 0   ID                     504 non-null    object        \n",
      " 1   N_VICTIMAS             504 non-null    int64         \n",
      " 2   FECHA                  504 non-null    datetime64[ns]\n",
      " 3   AAAA                   504 non-null    int64         \n",
      " 4   MM                     504 non-null    int64         \n",
      " 5   DD                     504 non-null    int64         \n",
      " 6   HORA                   504 non-null    object        \n",
      " 7   HH                     504 non-null    object        \n",
      " 8   LUGAR_DEL_HECHO        504 non-null    object        \n",
      " 9   TIPO_DE_CALLE          504 non-null    object        \n",
      " 10  Dirección Normalizada  504 non-null    object        \n",
      " 11  COMUNA                 504 non-null    int64         \n",
      " 12  XY (CABA)              504 non-null    object        \n",
      " 13  pos x                  504 non-null    object        \n",
      " 14  pos y                  504 non-null    object        \n",
      " 15  PARTICIPANTES          504 non-null    object        \n",
      " 16  VICTIMA                504 non-null    object        \n",
      " 17  ACUSADO                504 non-null    object        \n",
      "dtypes: datetime64[ns](1), int64(5), object(12)\n",
      "memory usage: 74.8+ KB\n"
     ]
    }
   ],
   "source": [
    "data.info()"
   ]
  },
  {
   "cell_type": "code",
   "execution_count": 346,
   "metadata": {},
   "outputs": [],
   "source": [
    "# Convertir la columna de object a numericas \n",
    "data['HH'] = data['HH'].astype('int')"
   ]
  },
  {
   "cell_type": "code",
   "execution_count": 347,
   "metadata": {},
   "outputs": [],
   "source": [
    "# Convertir la columna de object a numericas \n",
    "data['pos x'] = pd.to_numeric(data['pos x'], errors='coerce')\n",
    "data['pos y'] = pd.to_numeric(data['pos y'], errors='coerce')\n"
   ]
  },
  {
   "cell_type": "code",
   "execution_count": 348,
   "metadata": {},
   "outputs": [
    {
     "name": "stdout",
     "output_type": "stream",
     "text": [
      "<class 'pandas.core.frame.DataFrame'>\n",
      "Index: 504 entries, 0 to 693\n",
      "Data columns (total 18 columns):\n",
      " #   Column                 Non-Null Count  Dtype         \n",
      "---  ------                 --------------  -----         \n",
      " 0   ID                     504 non-null    object        \n",
      " 1   N_VICTIMAS             504 non-null    int64         \n",
      " 2   FECHA                  504 non-null    datetime64[ns]\n",
      " 3   AAAA                   504 non-null    int64         \n",
      " 4   MM                     504 non-null    int64         \n",
      " 5   DD                     504 non-null    int64         \n",
      " 6   HORA                   504 non-null    object        \n",
      " 7   HH                     504 non-null    int64         \n",
      " 8   LUGAR_DEL_HECHO        504 non-null    object        \n",
      " 9   TIPO_DE_CALLE          504 non-null    object        \n",
      " 10  Dirección Normalizada  504 non-null    object        \n",
      " 11  COMUNA                 504 non-null    int64         \n",
      " 12  XY (CABA)              504 non-null    object        \n",
      " 13  pos x                  504 non-null    float64       \n",
      " 14  pos y                  504 non-null    float64       \n",
      " 15  PARTICIPANTES          504 non-null    object        \n",
      " 16  VICTIMA                504 non-null    object        \n",
      " 17  ACUSADO                504 non-null    object        \n",
      "dtypes: datetime64[ns](1), float64(2), int64(6), object(9)\n",
      "memory usage: 74.8+ KB\n"
     ]
    }
   ],
   "source": [
    "data.info()"
   ]
  },
  {
   "cell_type": "markdown",
   "metadata": {},
   "source": [
    "Una vez con las columnas convertidas a numericas debido a su naturaleza, se procede a su revisión"
   ]
  },
  {
   "cell_type": "code",
   "execution_count": 349,
   "metadata": {},
   "outputs": [
    {
     "data": {
      "text/html": [
       "<div>\n",
       "<style scoped>\n",
       "    .dataframe tbody tr th:only-of-type {\n",
       "        vertical-align: middle;\n",
       "    }\n",
       "\n",
       "    .dataframe tbody tr th {\n",
       "        vertical-align: top;\n",
       "    }\n",
       "\n",
       "    .dataframe thead th {\n",
       "        text-align: right;\n",
       "    }\n",
       "</style>\n",
       "<table border=\"1\" class=\"dataframe\">\n",
       "  <thead>\n",
       "    <tr style=\"text-align: right;\">\n",
       "      <th></th>\n",
       "      <th>N_VICTIMAS</th>\n",
       "      <th>FECHA</th>\n",
       "      <th>AAAA</th>\n",
       "      <th>MM</th>\n",
       "      <th>DD</th>\n",
       "      <th>HH</th>\n",
       "      <th>COMUNA</th>\n",
       "      <th>pos x</th>\n",
       "      <th>pos y</th>\n",
       "    </tr>\n",
       "  </thead>\n",
       "  <tbody>\n",
       "    <tr>\n",
       "      <th>count</th>\n",
       "      <td>504.000000</td>\n",
       "      <td>504</td>\n",
       "      <td>504.000000</td>\n",
       "      <td>504.000000</td>\n",
       "      <td>504.000000</td>\n",
       "      <td>504.000000</td>\n",
       "      <td>504.000000</td>\n",
       "      <td>504.000000</td>\n",
       "      <td>504.000000</td>\n",
       "    </tr>\n",
       "    <tr>\n",
       "      <th>mean</th>\n",
       "      <td>1.029762</td>\n",
       "      <td>2018-09-01 19:48:34.285714176</td>\n",
       "      <td>2018.160714</td>\n",
       "      <td>6.607143</td>\n",
       "      <td>16.192460</td>\n",
       "      <td>11.771825</td>\n",
       "      <td>7.438492</td>\n",
       "      <td>-58.441261</td>\n",
       "      <td>-34.619358</td>\n",
       "    </tr>\n",
       "    <tr>\n",
       "      <th>min</th>\n",
       "      <td>1.000000</td>\n",
       "      <td>2016-01-01 00:00:00</td>\n",
       "      <td>2016.000000</td>\n",
       "      <td>1.000000</td>\n",
       "      <td>1.000000</td>\n",
       "      <td>0.000000</td>\n",
       "      <td>1.000000</td>\n",
       "      <td>-58.529942</td>\n",
       "      <td>-34.705250</td>\n",
       "    </tr>\n",
       "    <tr>\n",
       "      <th>25%</th>\n",
       "      <td>1.000000</td>\n",
       "      <td>2017-04-17 12:00:00</td>\n",
       "      <td>2017.000000</td>\n",
       "      <td>3.000000</td>\n",
       "      <td>9.000000</td>\n",
       "      <td>6.000000</td>\n",
       "      <td>4.000000</td>\n",
       "      <td>-58.474718</td>\n",
       "      <td>-34.643918</td>\n",
       "    </tr>\n",
       "    <tr>\n",
       "      <th>50%</th>\n",
       "      <td>1.000000</td>\n",
       "      <td>2018-06-28 12:00:00</td>\n",
       "      <td>2018.000000</td>\n",
       "      <td>7.000000</td>\n",
       "      <td>16.000000</td>\n",
       "      <td>11.000000</td>\n",
       "      <td>8.000000</td>\n",
       "      <td>-58.444513</td>\n",
       "      <td>-34.621569</td>\n",
       "    </tr>\n",
       "    <tr>\n",
       "      <th>75%</th>\n",
       "      <td>1.000000</td>\n",
       "      <td>2019-12-18 00:00:00</td>\n",
       "      <td>2019.000000</td>\n",
       "      <td>10.000000</td>\n",
       "      <td>23.250000</td>\n",
       "      <td>18.000000</td>\n",
       "      <td>11.000000</td>\n",
       "      <td>-58.403634</td>\n",
       "      <td>-34.597180</td>\n",
       "    </tr>\n",
       "    <tr>\n",
       "      <th>max</th>\n",
       "      <td>3.000000</td>\n",
       "      <td>2021-12-30 00:00:00</td>\n",
       "      <td>2021.000000</td>\n",
       "      <td>12.000000</td>\n",
       "      <td>31.000000</td>\n",
       "      <td>23.000000</td>\n",
       "      <td>15.000000</td>\n",
       "      <td>-58.356082</td>\n",
       "      <td>-34.534654</td>\n",
       "    </tr>\n",
       "    <tr>\n",
       "      <th>std</th>\n",
       "      <td>0.181410</td>\n",
       "      <td>NaN</td>\n",
       "      <td>1.663538</td>\n",
       "      <td>3.572096</td>\n",
       "      <td>8.689054</td>\n",
       "      <td>6.855330</td>\n",
       "      <td>4.391862</td>\n",
       "      <td>0.045256</td>\n",
       "      <td>0.035866</td>\n",
       "    </tr>\n",
       "  </tbody>\n",
       "</table>\n",
       "</div>"
      ],
      "text/plain": [
       "       N_VICTIMAS                          FECHA         AAAA          MM  \\\n",
       "count  504.000000                            504   504.000000  504.000000   \n",
       "mean     1.029762  2018-09-01 19:48:34.285714176  2018.160714    6.607143   \n",
       "min      1.000000            2016-01-01 00:00:00  2016.000000    1.000000   \n",
       "25%      1.000000            2017-04-17 12:00:00  2017.000000    3.000000   \n",
       "50%      1.000000            2018-06-28 12:00:00  2018.000000    7.000000   \n",
       "75%      1.000000            2019-12-18 00:00:00  2019.000000   10.000000   \n",
       "max      3.000000            2021-12-30 00:00:00  2021.000000   12.000000   \n",
       "std      0.181410                            NaN     1.663538    3.572096   \n",
       "\n",
       "               DD          HH      COMUNA       pos x       pos y  \n",
       "count  504.000000  504.000000  504.000000  504.000000  504.000000  \n",
       "mean    16.192460   11.771825    7.438492  -58.441261  -34.619358  \n",
       "min      1.000000    0.000000    1.000000  -58.529942  -34.705250  \n",
       "25%      9.000000    6.000000    4.000000  -58.474718  -34.643918  \n",
       "50%     16.000000   11.000000    8.000000  -58.444513  -34.621569  \n",
       "75%     23.250000   18.000000   11.000000  -58.403634  -34.597180  \n",
       "max     31.000000   23.000000   15.000000  -58.356082  -34.534654  \n",
       "std      8.689054    6.855330    4.391862    0.045256    0.035866  "
      ]
     },
     "execution_count": 349,
     "metadata": {},
     "output_type": "execute_result"
    }
   ],
   "source": [
    "data.describe()"
   ]
  },
  {
   "cell_type": "markdown",
   "metadata": {},
   "source": [
    "Todas las columnas numéricas tienen desviaciones estándar (\"std\") diferentes de cero, lo que indica que no tienen un único valor.\n",
    "\n",
    "Preservaremos todas las columnas numéricas y datos de tiempo"
   ]
  },
  {
   "cell_type": "markdown",
   "metadata": {},
   "source": [
    "# 4.3 Filas repetidas"
   ]
  },
  {
   "cell_type": "code",
   "execution_count": 350,
   "metadata": {},
   "outputs": [
    {
     "name": "stdout",
     "output_type": "stream",
     "text": [
      "Tamaño del set antes de eliminar las filas repetidas: (504, 18)\n",
      "Tamaño del set después de eliminar las filas repetidas: (504, 18)\n"
     ]
    }
   ],
   "source": [
    "print(f'Tamaño del set antes de eliminar las filas repetidas: {data.shape}')\n",
    "data.drop_duplicates(inplace=True)\n",
    "print(f'Tamaño del set después de eliminar las filas repetidas: {data.shape}')"
   ]
  },
  {
   "cell_type": "markdown",
   "metadata": {},
   "source": [
    "# 4.4 *Outliers* en las variables numéricas\n",
    "\n",
    "No siempre se deben eliminar los *outliers* porque dependiendo de la variable numérica analizada estos pueden contener información importante.\n",
    "\n",
    "Creemos gráficas tipo \"boxplot\" de las columnas numéricas:"
   ]
  },
  {
   "cell_type": "code",
   "execution_count": 351,
   "metadata": {},
   "outputs": [
    {
     "data": {
      "image/png": "[encoded data removed]",
      "text/plain": [
       "<Figure size 800x3000 with 8 Axes>"
      ]
     },
     "metadata": {},
     "output_type": "display_data"
    }
   ],
   "source": [
    "# Generar gráficas individuales pues las variables numéricas\n",
    "# están en rangos diferentes\n",
    "cols_num = ['N_VICTIMAS', 'COMUNA', 'AAAA', 'MM', 'DD',\n",
    "            'HH', 'pos x', 'pos y']\n",
    "\n",
    "fig, ax = plt.subplots(nrows=8, ncols=1, figsize=(8,30))\n",
    "fig.subplots_adjust(hspace=0.5)\n",
    "\n",
    "for i, col in enumerate(cols_num):\n",
    "    sns.boxplot(x=col, data=data, ax=ax[i])\n",
    "    ax[i].set_title(col)"
   ]
  },
  {
   "cell_type": "markdown",
   "metadata": {},
   "source": [
    "**Observaciones:**\n",
    "- \"N_VICTIMAS \": En accidentes de transito hubo mas de 1 muerto hasta 3 lo que es factible por lo que no se modificara la columna \n",
    "- Las demas columnas no tienen outliers "
   ]
  },
  {
   "cell_type": "markdown",
   "metadata": {},
   "source": [
    "# 4.5 Errores tipográficos en variables categóricas\n",
    "En una variable categórica pueden aparecer sub-niveles que no corresponden abreviaturas, no abreviados o mal escritos que para nosotros son equivalentes pero que para nuestro programa parecerían diferentes.\n",
    "Teniendo en cuenta las columnas categóricas que tenemos y sus subniveles; hay columnas con mas de 238 subniveles, serian complejo verlos en una gráfica, por lo tanto graficaremos los que se podrian unificar y modificar.\n",
    "\n",
    "Se deben unificar estos sub-niveles"
   ]
  },
  {
   "cell_type": "code",
   "execution_count": 353,
   "metadata": {},
   "outputs": [
    {
     "name": "stdout",
     "output_type": "stream",
     "text": [
      "Columna ID: 504 subniveles\n",
      "Columna HORA: 264 subniveles\n",
      "Columna HH: 24 subniveles\n",
      "Columna LUGAR_DEL_HECHO: 493 subniveles\n",
      "Columna TIPO_DE_CALLE: 4 subniveles\n",
      "Columna Dirección Normalizada: 463 subniveles\n",
      "Columna XY (CABA): 439 subniveles\n",
      "Columna pos x: 439 subniveles\n",
      "Columna pos y: 439 subniveles\n",
      "Columna PARTICIPANTES: 31 subniveles\n",
      "Columna VICTIMA: 9 subniveles\n",
      "Columna ACUSADO: 9 subniveles\n"
     ]
    }
   ],
   "source": [
    "# Conteo de los niveles en las diferentes columnas categóricas\n",
    "cols_cat = ['ID', 'HORA', 'HH', 'LUGAR_DEL_HECHO', 'TIPO_DE_CALLE', 'Dirección Normalizada',\n",
    "      'XY (CABA)', 'pos x', 'pos y','PARTICIPANTES', 'VICTIMA', 'ACUSADO'  ]\n",
    "\n",
    "for col in cols_cat:\n",
    "  print(f'Columna {col}: {data[col].nunique()} subniveles')"
   ]
  },
  {
   "cell_type": "markdown",
   "metadata": {},
   "source": [
    "Para graficar las columnas categóricas se exime \"LUGAR_DEL_HECHO\" por la cantidad de subniveles"
   ]
  },
  {
   "cell_type": "code",
   "execution_count": 369,
   "metadata": {},
   "outputs": [
    {
     "data": {
      "image/png": "[encoded data removed]",
      "text/plain": [
       "<Figure size 1000x1500 with 5 Axes>"
      ]
     },
     "metadata": {},
     "output_type": "display_data"
    }
   ],
   "source": [
    "cols_cat = ['HH', 'TIPO_DE_CALLE', 'PARTICIPANTES', 'VICTIMA', 'ACUSADO']\n",
    "colors = [\"#2f7372\"]\n",
    "\n",
    "fig, ax = plt.subplots(nrows=5, ncols=1, figsize=(10, 15)) \n",
    "fig.subplots_adjust(hspace=1)\n",
    "for i, col in enumerate(cols_cat):\n",
    "    plot = sns.countplot(x=col, data=data, ax=ax[i])  \n",
    "    ax[i].set_title(col)\n",
    "    ax[i].tick_params(axis='x', rotation=30) \n",
    "    \n",
    "    # Asignar colores a las barras\n",
    "    for j, bar in enumerate(plot.patches):\n",
    "        bar.set_facecolor(colors[j % len(colors)]) \n",
    "\n",
    "# Mostrar gráfico\n",
    "plt.show()\n"
   ]
  },
  {
   "cell_type": "markdown",
   "metadata": {},
   "source": [
    "Al parecer los subniveles estan bien escritos, no hay subniveles repetidos vamos a revisar un poco mas la columna \"PARTICIPANTES\" vamos a visualizarla mejor. "
   ]
  },
  {
   "cell_type": "code",
   "execution_count": 355,
   "metadata": {},
   "outputs": [
    {
     "name": "stdout",
     "output_type": "stream",
     "text": [
      "['MOTO-AUTO' 'AUTO-PASAJEROS' 'MOTO-PASAJEROS' 'MOTO-OBJETO FIJO'\n",
      " 'MOTO-CARGAS' 'PEATON-AUTO' 'PEATON-MOTO' 'PEATON-PASAJEROS' 'AUTO-AUTO'\n",
      " 'AUTO-OBJETO FIJO' 'PEATON-CARGAS' 'MOTO-MOTO' 'MULTIPLE' 'AUTO-CARGAS'\n",
      " 'MOTO-MOVIL' 'CARGAS-CARGAS' 'BICICLETA-CARGAS' 'PASAJEROS-PASAJEROS'\n",
      " 'MOVIL-PASAJEROS' 'PEATON-BICICLETA' 'CARGAS-AUTO' 'MOTO-BICICLETA'\n",
      " 'BICICLETA-PASAJEROS' 'MOVIL-CARGAS' 'PASAJEROS-AUTO' 'AUTO-MOVIL'\n",
      " 'BICICLETA-TREN' 'BICICLETA-OTRO' 'MOTO-OTRO' 'BICICLETA-AUTO'\n",
      " 'PEATON_MOTO-MOTO']\n"
     ]
    }
   ],
   "source": [
    "# \"PARTICIPANTE\" revision de subcategorias\n",
    "print(data['PARTICIPANTES'].unique())"
   ]
  },
  {
   "cell_type": "markdown",
   "metadata": {},
   "source": [
    "Al parcer la columna \"PARTICIPANTES\" no tiene subcaterias para agrupar son únicas."
   ]
  },
  {
   "cell_type": "code",
   "execution_count": 356,
   "metadata": {},
   "outputs": [
    {
     "data": {
      "text/plain": [
       "(504, 18)"
      ]
     },
     "execution_count": 356,
     "metadata": {},
     "output_type": "execute_result"
    }
   ],
   "source": [
    "data.shape"
   ]
  },
  {
   "cell_type": "markdown",
   "metadata": {},
   "source": [
    "Ajuste de columnas \"XY (CABA)\" "
   ]
  },
  {
   "cell_type": "code",
   "execution_count": 357,
   "metadata": {},
   "outputs": [
    {
     "data": {
      "text/plain": [
       "0"
      ]
     },
     "execution_count": 357,
     "metadata": {},
     "output_type": "execute_result"
    }
   ],
   "source": [
    "data[\"XY (CABA)\"].isnull().sum()"
   ]
  },
  {
   "cell_type": "code",
   "execution_count": 358,
   "metadata": {},
   "outputs": [],
   "source": [
    "\n",
    "\n",
    "# Función para extraer coordenadas (dos números decimales) de un texto\n",
    "def extraer_coordenadas(texto):\n",
    "    # Busca todos los números decimales en el texto\n",
    "    coordenadas = re.findall(r'\\d+\\.\\d+', texto)\n",
    "    \n",
    "    # Si encontramos al menos dos coordenadas\n",
    "    if len(coordenadas) == 2:\n",
    "        # Convertimos las dos primeras coordenadas a float y las retornamos\n",
    "        return float(coordenadas[0]), float(coordenadas[1])\n",
    "    else:\n",
    "        return None, None\n",
    "    \n",
    "    # Si no se encuentran coordenadas o hay menos de dos, retorna None\n",
    "    return None\n",
    "\n",
    "# Aplicamos la función a la columna 'XY CABA' con el método .map()\n",
    "data['Coordenadas_x'], data['Coordenadas_y'] = zip(*data[\"XY (CABA)\"].map(extraer_coordenadas))\n",
    "\n",
    "data = data[(data['Coordenadas_x'].notnull()) & (data['Coordenadas_y'].notnull())]\n",
    "\n",
    "\n"
   ]
  },
  {
   "cell_type": "code",
   "execution_count": 359,
   "metadata": {},
   "outputs": [
    {
     "data": {
      "text/html": [
       "<div>\n",
       "<style scoped>\n",
       "    .dataframe tbody tr th:only-of-type {\n",
       "        vertical-align: middle;\n",
       "    }\n",
       "\n",
       "    .dataframe tbody tr th {\n",
       "        vertical-align: top;\n",
       "    }\n",
       "\n",
       "    .dataframe thead th {\n",
       "        text-align: right;\n",
       "    }\n",
       "</style>\n",
       "<table border=\"1\" class=\"dataframe\">\n",
       "  <thead>\n",
       "    <tr style=\"text-align: right;\">\n",
       "      <th></th>\n",
       "      <th>ID</th>\n",
       "      <th>N_VICTIMAS</th>\n",
       "      <th>FECHA</th>\n",
       "      <th>AAAA</th>\n",
       "      <th>MM</th>\n",
       "      <th>DD</th>\n",
       "      <th>HORA</th>\n",
       "      <th>HH</th>\n",
       "      <th>LUGAR_DEL_HECHO</th>\n",
       "      <th>TIPO_DE_CALLE</th>\n",
       "      <th>Dirección Normalizada</th>\n",
       "      <th>COMUNA</th>\n",
       "      <th>XY (CABA)</th>\n",
       "      <th>pos x</th>\n",
       "      <th>pos y</th>\n",
       "      <th>PARTICIPANTES</th>\n",
       "      <th>VICTIMA</th>\n",
       "      <th>ACUSADO</th>\n",
       "      <th>Coordenadas_x</th>\n",
       "      <th>Coordenadas_y</th>\n",
       "    </tr>\n",
       "  </thead>\n",
       "  <tbody>\n",
       "    <tr>\n",
       "      <th>0</th>\n",
       "      <td>2016-0001</td>\n",
       "      <td>1</td>\n",
       "      <td>2016-01-01</td>\n",
       "      <td>2016</td>\n",
       "      <td>1</td>\n",
       "      <td>1</td>\n",
       "      <td>04:00:00</td>\n",
       "      <td>4</td>\n",
       "      <td>AV PIEDRA BUENA Y AV FERNANDEZ DE LA CRUZ</td>\n",
       "      <td>AVENIDA</td>\n",
       "      <td>PIEDRA BUENA AV. y FERNANDEZ DE LA CRUZ, F., G...</td>\n",
       "      <td>8</td>\n",
       "      <td>Point (98896.78238426 93532.43437792)</td>\n",
       "      <td>-58.475340</td>\n",
       "      <td>-34.687570</td>\n",
       "      <td>MOTO-AUTO</td>\n",
       "      <td>MOTO</td>\n",
       "      <td>AUTO</td>\n",
       "      <td>98896.782384</td>\n",
       "      <td>93532.434378</td>\n",
       "    </tr>\n",
       "    <tr>\n",
       "      <th>1</th>\n",
       "      <td>2016-0002</td>\n",
       "      <td>1</td>\n",
       "      <td>2016-01-02</td>\n",
       "      <td>2016</td>\n",
       "      <td>1</td>\n",
       "      <td>2</td>\n",
       "      <td>01:15:00</td>\n",
       "      <td>1</td>\n",
       "      <td>AV GRAL PAZ  Y AV DE LOS CORRALES</td>\n",
       "      <td>GRAL PAZ</td>\n",
       "      <td>PAZ, GRAL. AV. y DE LOS CORRALES AV.</td>\n",
       "      <td>9</td>\n",
       "      <td>Point (95832.05571093 95505.41641999)</td>\n",
       "      <td>-58.508775</td>\n",
       "      <td>-34.669777</td>\n",
       "      <td>AUTO-PASAJEROS</td>\n",
       "      <td>AUTO</td>\n",
       "      <td>PASAJEROS</td>\n",
       "      <td>95832.055711</td>\n",
       "      <td>95505.416420</td>\n",
       "    </tr>\n",
       "    <tr>\n",
       "      <th>4</th>\n",
       "      <td>2016-0005</td>\n",
       "      <td>1</td>\n",
       "      <td>2016-01-21</td>\n",
       "      <td>2016</td>\n",
       "      <td>1</td>\n",
       "      <td>21</td>\n",
       "      <td>05:20:00</td>\n",
       "      <td>5</td>\n",
       "      <td>AV SAN JUAN Y PRESIDENTE LUIS SAENZ PEÑA</td>\n",
       "      <td>AVENIDA</td>\n",
       "      <td>SAN JUAN AV. y SAENZ PEÃ‘A, LUIS, PRES.</td>\n",
       "      <td>1</td>\n",
       "      <td>Point (106980.32827929 100752.16915795)</td>\n",
       "      <td>-58.387183</td>\n",
       "      <td>-34.622466</td>\n",
       "      <td>MOTO-PASAJEROS</td>\n",
       "      <td>MOTO</td>\n",
       "      <td>PASAJEROS</td>\n",
       "      <td>106980.328279</td>\n",
       "      <td>100752.169158</td>\n",
       "    </tr>\n",
       "    <tr>\n",
       "      <th>5</th>\n",
       "      <td>2016-0008</td>\n",
       "      <td>1</td>\n",
       "      <td>2016-01-24</td>\n",
       "      <td>2016</td>\n",
       "      <td>1</td>\n",
       "      <td>24</td>\n",
       "      <td>18:30:00</td>\n",
       "      <td>18</td>\n",
       "      <td>AV 27 DE FEBRERO Y AV ESCALADA</td>\n",
       "      <td>AVENIDA</td>\n",
       "      <td>27 DE FEBRERO AV. y ESCALADA AV.</td>\n",
       "      <td>8</td>\n",
       "      <td>Point (101721.59002217 93844.25656649)</td>\n",
       "      <td>-58.444513</td>\n",
       "      <td>-34.684759</td>\n",
       "      <td>MOTO-OBJETO FIJO</td>\n",
       "      <td>MOTO</td>\n",
       "      <td>OBJETO FIJO</td>\n",
       "      <td>101721.590022</td>\n",
       "      <td>93844.256566</td>\n",
       "    </tr>\n",
       "    <tr>\n",
       "      <th>6</th>\n",
       "      <td>2016-0009</td>\n",
       "      <td>1</td>\n",
       "      <td>2016-01-24</td>\n",
       "      <td>2016</td>\n",
       "      <td>1</td>\n",
       "      <td>24</td>\n",
       "      <td>19:10:00</td>\n",
       "      <td>19</td>\n",
       "      <td>NOGOYA Y JOAQUIN V. GONZALES</td>\n",
       "      <td>CALLE</td>\n",
       "      <td>NOGOYA y GONZALEZ, JOAQUIN V.</td>\n",
       "      <td>11</td>\n",
       "      <td>Point (96545.87592078 102330.67262199)</td>\n",
       "      <td>-58.500959</td>\n",
       "      <td>-34.608254</td>\n",
       "      <td>MOTO-AUTO</td>\n",
       "      <td>MOTO</td>\n",
       "      <td>AUTO</td>\n",
       "      <td>96545.875921</td>\n",
       "      <td>102330.672622</td>\n",
       "    </tr>\n",
       "    <tr>\n",
       "      <th>7</th>\n",
       "      <td>2016-0010</td>\n",
       "      <td>1</td>\n",
       "      <td>2016-01-29</td>\n",
       "      <td>2016</td>\n",
       "      <td>1</td>\n",
       "      <td>29</td>\n",
       "      <td>15:20:00</td>\n",
       "      <td>15</td>\n",
       "      <td>AV GENERAL PAZ Y AV DE LOS CORRALES</td>\n",
       "      <td>GRAL PAZ</td>\n",
       "      <td>PAZ, GRAL. AV. y DE LOS CORRALES AV.</td>\n",
       "      <td>9</td>\n",
       "      <td>Point (95832.05571093 95505.41641999)</td>\n",
       "      <td>-58.508775</td>\n",
       "      <td>-34.669777</td>\n",
       "      <td>MOTO-AUTO</td>\n",
       "      <td>MOTO</td>\n",
       "      <td>AUTO</td>\n",
       "      <td>95832.055711</td>\n",
       "      <td>95505.416420</td>\n",
       "    </tr>\n",
       "    <tr>\n",
       "      <th>8</th>\n",
       "      <td>2016-0012</td>\n",
       "      <td>1</td>\n",
       "      <td>2016-02-08</td>\n",
       "      <td>2016</td>\n",
       "      <td>2</td>\n",
       "      <td>8</td>\n",
       "      <td>01:20:00</td>\n",
       "      <td>1</td>\n",
       "      <td>AV BELGRANO Y BERNARDO DE IRIGOYEN</td>\n",
       "      <td>AVENIDA</td>\n",
       "      <td>BELGRANO AV. e IRIGOYEN, BERNARDO DE</td>\n",
       "      <td>1</td>\n",
       "      <td>Point (107595.35084333 101797.50052813)</td>\n",
       "      <td>-58.380486</td>\n",
       "      <td>-34.613039</td>\n",
       "      <td>MOTO-CARGAS</td>\n",
       "      <td>MOTO</td>\n",
       "      <td>CARGAS</td>\n",
       "      <td>107595.350843</td>\n",
       "      <td>101797.500528</td>\n",
       "    </tr>\n",
       "    <tr>\n",
       "      <th>10</th>\n",
       "      <td>2016-0015</td>\n",
       "      <td>1</td>\n",
       "      <td>2016-02-14</td>\n",
       "      <td>2016</td>\n",
       "      <td>2</td>\n",
       "      <td>14</td>\n",
       "      <td>05:14:00</td>\n",
       "      <td>5</td>\n",
       "      <td>AV SCALABRINI ORTIZ Y VERA</td>\n",
       "      <td>AVENIDA</td>\n",
       "      <td>SCALABRINI ORTIZ, RAUL AV. y VERA</td>\n",
       "      <td>15</td>\n",
       "      <td>Point (102357.43746828 103343.52002839)</td>\n",
       "      <td>-58.437600</td>\n",
       "      <td>-34.599128</td>\n",
       "      <td>PEATON-AUTO</td>\n",
       "      <td>PEATON</td>\n",
       "      <td>AUTO</td>\n",
       "      <td>102357.437468</td>\n",
       "      <td>103343.520028</td>\n",
       "    </tr>\n",
       "  </tbody>\n",
       "</table>\n",
       "</div>"
      ],
      "text/plain": [
       "           ID  N_VICTIMAS      FECHA  AAAA  MM  DD      HORA  HH  \\\n",
       "0   2016-0001           1 2016-01-01  2016   1   1  04:00:00   4   \n",
       "1   2016-0002           1 2016-01-02  2016   1   2  01:15:00   1   \n",
       "4   2016-0005           1 2016-01-21  2016   1  21  05:20:00   5   \n",
       "5   2016-0008           1 2016-01-24  2016   1  24  18:30:00  18   \n",
       "6   2016-0009           1 2016-01-24  2016   1  24  19:10:00  19   \n",
       "7   2016-0010           1 2016-01-29  2016   1  29  15:20:00  15   \n",
       "8   2016-0012           1 2016-02-08  2016   2   8  01:20:00   1   \n",
       "10  2016-0015           1 2016-02-14  2016   2  14  05:14:00   5   \n",
       "\n",
       "                              LUGAR_DEL_HECHO TIPO_DE_CALLE  \\\n",
       "0   AV PIEDRA BUENA Y AV FERNANDEZ DE LA CRUZ       AVENIDA   \n",
       "1           AV GRAL PAZ  Y AV DE LOS CORRALES      GRAL PAZ   \n",
       "4   AV SAN JUAN Y PRESIDENTE LUIS SAENZ PEÑA        AVENIDA   \n",
       "5              AV 27 DE FEBRERO Y AV ESCALADA       AVENIDA   \n",
       "6                NOGOYA Y JOAQUIN V. GONZALES         CALLE   \n",
       "7         AV GENERAL PAZ Y AV DE LOS CORRALES      GRAL PAZ   \n",
       "8          AV BELGRANO Y BERNARDO DE IRIGOYEN       AVENIDA   \n",
       "10                 AV SCALABRINI ORTIZ Y VERA       AVENIDA   \n",
       "\n",
       "                                Dirección Normalizada  COMUNA  \\\n",
       "0   PIEDRA BUENA AV. y FERNANDEZ DE LA CRUZ, F., G...       8   \n",
       "1                PAZ, GRAL. AV. y DE LOS CORRALES AV.       9   \n",
       "4             SAN JUAN AV. y SAENZ PEÃ‘A, LUIS, PRES.       1   \n",
       "5                    27 DE FEBRERO AV. y ESCALADA AV.       8   \n",
       "6                       NOGOYA y GONZALEZ, JOAQUIN V.      11   \n",
       "7                PAZ, GRAL. AV. y DE LOS CORRALES AV.       9   \n",
       "8                BELGRANO AV. e IRIGOYEN, BERNARDO DE       1   \n",
       "10                  SCALABRINI ORTIZ, RAUL AV. y VERA      15   \n",
       "\n",
       "                                  XY (CABA)      pos x      pos y  \\\n",
       "0     Point (98896.78238426 93532.43437792) -58.475340 -34.687570   \n",
       "1     Point (95832.05571093 95505.41641999) -58.508775 -34.669777   \n",
       "4   Point (106980.32827929 100752.16915795) -58.387183 -34.622466   \n",
       "5    Point (101721.59002217 93844.25656649) -58.444513 -34.684759   \n",
       "6    Point (96545.87592078 102330.67262199) -58.500959 -34.608254   \n",
       "7     Point (95832.05571093 95505.41641999) -58.508775 -34.669777   \n",
       "8   Point (107595.35084333 101797.50052813) -58.380486 -34.613039   \n",
       "10  Point (102357.43746828 103343.52002839) -58.437600 -34.599128   \n",
       "\n",
       "       PARTICIPANTES VICTIMA      ACUSADO  Coordenadas_x  Coordenadas_y  \n",
       "0          MOTO-AUTO    MOTO         AUTO   98896.782384   93532.434378  \n",
       "1     AUTO-PASAJEROS    AUTO    PASAJEROS   95832.055711   95505.416420  \n",
       "4     MOTO-PASAJEROS    MOTO    PASAJEROS  106980.328279  100752.169158  \n",
       "5   MOTO-OBJETO FIJO    MOTO  OBJETO FIJO  101721.590022   93844.256566  \n",
       "6          MOTO-AUTO    MOTO         AUTO   96545.875921  102330.672622  \n",
       "7          MOTO-AUTO    MOTO         AUTO   95832.055711   95505.416420  \n",
       "8        MOTO-CARGAS    MOTO       CARGAS  107595.350843  101797.500528  \n",
       "10       PEATON-AUTO  PEATON         AUTO  102357.437468  103343.520028  "
      ]
     },
     "execution_count": 359,
     "metadata": {},
     "output_type": "execute_result"
    }
   ],
   "source": [
    "data.head(8)"
   ]
  },
  {
   "cell_type": "markdown",
   "metadata": {},
   "source": [
    "Se intentara trasnformar las columnas 'Coordenadas_x' y 'Coordenadas_y' al fomato de hemisferio sur "
   ]
  },
  {
   "cell_type": "code",
   "execution_count": 360,
   "metadata": {},
   "outputs": [
    {
     "name": "stdout",
     "output_type": "stream",
     "text": [
      "   Coordenadas_x  Coordenadas_y    longitud    latitud\n",
      "0   98896.782384   93532.434378 -134.158453 -86.317548\n",
      "1   95832.055711   95505.416420 -133.987167 -86.286895\n",
      "4  106980.328279  100752.169158 -132.909407 -86.372763\n",
      "5  101721.590022   93844.256566 -134.027736 -86.341536\n",
      "6   96545.875921  102330.672622 -133.049127 -86.278847\n"
     ]
    }
   ],
   "source": [
    "\n",
    "# Crear el transformador de UTM (EPSG:32721, UTM zona 21S) a WGS84 (EPSG:4326)\n",
    "proyector = pyproj.Transformer.from_crs(\"epsg:32721\", \"epsg:4326\", always_xy=True)\n",
    "\n",
    "# Definir una función para convertir coordenadas\n",
    "def convertir_a_latlon(row):\n",
    "    # row['Coordenadas_x'] y row['Coordenadas_y'] son los valores de la fila actual\n",
    "    return proyector.transform(row['Coordenadas_x'], row['Coordenadas_y'])\n",
    "\n",
    "# Aplicar la función de conversión a cada fila del DataFrame\n",
    "data[['longitud', 'latitud']] = data.apply(convertir_a_latlon, axis=1, result_type='expand')\n",
    "\n",
    "# Verifica algunas coordenadas convertidas\n",
    "print(data[['Coordenadas_x', 'Coordenadas_y', 'longitud', 'latitud']].head())\n",
    "\n"
   ]
  },
  {
   "cell_type": "code",
   "execution_count": 361,
   "metadata": {},
   "outputs": [
    {
     "data": {
      "text/html": [
       "<div>\n",
       "<style scoped>\n",
       "    .dataframe tbody tr th:only-of-type {\n",
       "        vertical-align: middle;\n",
       "    }\n",
       "\n",
       "    .dataframe tbody tr th {\n",
       "        vertical-align: top;\n",
       "    }\n",
       "\n",
       "    .dataframe thead th {\n",
       "        text-align: right;\n",
       "    }\n",
       "</style>\n",
       "<table border=\"1\" class=\"dataframe\">\n",
       "  <thead>\n",
       "    <tr style=\"text-align: right;\">\n",
       "      <th></th>\n",
       "      <th>ID</th>\n",
       "      <th>N_VICTIMAS</th>\n",
       "      <th>FECHA</th>\n",
       "      <th>AAAA</th>\n",
       "      <th>MM</th>\n",
       "      <th>DD</th>\n",
       "      <th>HORA</th>\n",
       "      <th>HH</th>\n",
       "      <th>LUGAR_DEL_HECHO</th>\n",
       "      <th>TIPO_DE_CALLE</th>\n",
       "      <th>...</th>\n",
       "      <th>XY (CABA)</th>\n",
       "      <th>pos x</th>\n",
       "      <th>pos y</th>\n",
       "      <th>PARTICIPANTES</th>\n",
       "      <th>VICTIMA</th>\n",
       "      <th>ACUSADO</th>\n",
       "      <th>Coordenadas_x</th>\n",
       "      <th>Coordenadas_y</th>\n",
       "      <th>longitud</th>\n",
       "      <th>latitud</th>\n",
       "    </tr>\n",
       "  </thead>\n",
       "  <tbody>\n",
       "    <tr>\n",
       "      <th>0</th>\n",
       "      <td>2016-0001</td>\n",
       "      <td>1</td>\n",
       "      <td>2016-01-01</td>\n",
       "      <td>2016</td>\n",
       "      <td>1</td>\n",
       "      <td>1</td>\n",
       "      <td>04:00:00</td>\n",
       "      <td>4</td>\n",
       "      <td>AV PIEDRA BUENA Y AV FERNANDEZ DE LA CRUZ</td>\n",
       "      <td>AVENIDA</td>\n",
       "      <td>...</td>\n",
       "      <td>Point (98896.78238426 93532.43437792)</td>\n",
       "      <td>-58.475340</td>\n",
       "      <td>-34.687570</td>\n",
       "      <td>MOTO-AUTO</td>\n",
       "      <td>MOTO</td>\n",
       "      <td>AUTO</td>\n",
       "      <td>98896.782384</td>\n",
       "      <td>93532.434378</td>\n",
       "      <td>-134.158453</td>\n",
       "      <td>-86.317548</td>\n",
       "    </tr>\n",
       "    <tr>\n",
       "      <th>1</th>\n",
       "      <td>2016-0002</td>\n",
       "      <td>1</td>\n",
       "      <td>2016-01-02</td>\n",
       "      <td>2016</td>\n",
       "      <td>1</td>\n",
       "      <td>2</td>\n",
       "      <td>01:15:00</td>\n",
       "      <td>1</td>\n",
       "      <td>AV GRAL PAZ  Y AV DE LOS CORRALES</td>\n",
       "      <td>GRAL PAZ</td>\n",
       "      <td>...</td>\n",
       "      <td>Point (95832.05571093 95505.41641999)</td>\n",
       "      <td>-58.508775</td>\n",
       "      <td>-34.669777</td>\n",
       "      <td>AUTO-PASAJEROS</td>\n",
       "      <td>AUTO</td>\n",
       "      <td>PASAJEROS</td>\n",
       "      <td>95832.055711</td>\n",
       "      <td>95505.416420</td>\n",
       "      <td>-133.987167</td>\n",
       "      <td>-86.286895</td>\n",
       "    </tr>\n",
       "    <tr>\n",
       "      <th>4</th>\n",
       "      <td>2016-0005</td>\n",
       "      <td>1</td>\n",
       "      <td>2016-01-21</td>\n",
       "      <td>2016</td>\n",
       "      <td>1</td>\n",
       "      <td>21</td>\n",
       "      <td>05:20:00</td>\n",
       "      <td>5</td>\n",
       "      <td>AV SAN JUAN Y PRESIDENTE LUIS SAENZ PEÑA</td>\n",
       "      <td>AVENIDA</td>\n",
       "      <td>...</td>\n",
       "      <td>Point (106980.32827929 100752.16915795)</td>\n",
       "      <td>-58.387183</td>\n",
       "      <td>-34.622466</td>\n",
       "      <td>MOTO-PASAJEROS</td>\n",
       "      <td>MOTO</td>\n",
       "      <td>PASAJEROS</td>\n",
       "      <td>106980.328279</td>\n",
       "      <td>100752.169158</td>\n",
       "      <td>-132.909407</td>\n",
       "      <td>-86.372763</td>\n",
       "    </tr>\n",
       "    <tr>\n",
       "      <th>5</th>\n",
       "      <td>2016-0008</td>\n",
       "      <td>1</td>\n",
       "      <td>2016-01-24</td>\n",
       "      <td>2016</td>\n",
       "      <td>1</td>\n",
       "      <td>24</td>\n",
       "      <td>18:30:00</td>\n",
       "      <td>18</td>\n",
       "      <td>AV 27 DE FEBRERO Y AV ESCALADA</td>\n",
       "      <td>AVENIDA</td>\n",
       "      <td>...</td>\n",
       "      <td>Point (101721.59002217 93844.25656649)</td>\n",
       "      <td>-58.444513</td>\n",
       "      <td>-34.684759</td>\n",
       "      <td>MOTO-OBJETO FIJO</td>\n",
       "      <td>MOTO</td>\n",
       "      <td>OBJETO FIJO</td>\n",
       "      <td>101721.590022</td>\n",
       "      <td>93844.256566</td>\n",
       "      <td>-134.027736</td>\n",
       "      <td>-86.341536</td>\n",
       "    </tr>\n",
       "    <tr>\n",
       "      <th>6</th>\n",
       "      <td>2016-0009</td>\n",
       "      <td>1</td>\n",
       "      <td>2016-01-24</td>\n",
       "      <td>2016</td>\n",
       "      <td>1</td>\n",
       "      <td>24</td>\n",
       "      <td>19:10:00</td>\n",
       "      <td>19</td>\n",
       "      <td>NOGOYA Y JOAQUIN V. GONZALES</td>\n",
       "      <td>CALLE</td>\n",
       "      <td>...</td>\n",
       "      <td>Point (96545.87592078 102330.67262199)</td>\n",
       "      <td>-58.500959</td>\n",
       "      <td>-34.608254</td>\n",
       "      <td>MOTO-AUTO</td>\n",
       "      <td>MOTO</td>\n",
       "      <td>AUTO</td>\n",
       "      <td>96545.875921</td>\n",
       "      <td>102330.672622</td>\n",
       "      <td>-133.049127</td>\n",
       "      <td>-86.278847</td>\n",
       "    </tr>\n",
       "    <tr>\n",
       "      <th>7</th>\n",
       "      <td>2016-0010</td>\n",
       "      <td>1</td>\n",
       "      <td>2016-01-29</td>\n",
       "      <td>2016</td>\n",
       "      <td>1</td>\n",
       "      <td>29</td>\n",
       "      <td>15:20:00</td>\n",
       "      <td>15</td>\n",
       "      <td>AV GENERAL PAZ Y AV DE LOS CORRALES</td>\n",
       "      <td>GRAL PAZ</td>\n",
       "      <td>...</td>\n",
       "      <td>Point (95832.05571093 95505.41641999)</td>\n",
       "      <td>-58.508775</td>\n",
       "      <td>-34.669777</td>\n",
       "      <td>MOTO-AUTO</td>\n",
       "      <td>MOTO</td>\n",
       "      <td>AUTO</td>\n",
       "      <td>95832.055711</td>\n",
       "      <td>95505.416420</td>\n",
       "      <td>-133.987167</td>\n",
       "      <td>-86.286895</td>\n",
       "    </tr>\n",
       "    <tr>\n",
       "      <th>8</th>\n",
       "      <td>2016-0012</td>\n",
       "      <td>1</td>\n",
       "      <td>2016-02-08</td>\n",
       "      <td>2016</td>\n",
       "      <td>2</td>\n",
       "      <td>8</td>\n",
       "      <td>01:20:00</td>\n",
       "      <td>1</td>\n",
       "      <td>AV BELGRANO Y BERNARDO DE IRIGOYEN</td>\n",
       "      <td>AVENIDA</td>\n",
       "      <td>...</td>\n",
       "      <td>Point (107595.35084333 101797.50052813)</td>\n",
       "      <td>-58.380486</td>\n",
       "      <td>-34.613039</td>\n",
       "      <td>MOTO-CARGAS</td>\n",
       "      <td>MOTO</td>\n",
       "      <td>CARGAS</td>\n",
       "      <td>107595.350843</td>\n",
       "      <td>101797.500528</td>\n",
       "      <td>-132.744818</td>\n",
       "      <td>-86.375800</td>\n",
       "    </tr>\n",
       "    <tr>\n",
       "      <th>10</th>\n",
       "      <td>2016-0015</td>\n",
       "      <td>1</td>\n",
       "      <td>2016-02-14</td>\n",
       "      <td>2016</td>\n",
       "      <td>2</td>\n",
       "      <td>14</td>\n",
       "      <td>05:14:00</td>\n",
       "      <td>5</td>\n",
       "      <td>AV SCALABRINI ORTIZ Y VERA</td>\n",
       "      <td>AVENIDA</td>\n",
       "      <td>...</td>\n",
       "      <td>Point (102357.43746828 103343.52002839)</td>\n",
       "      <td>-58.437600</td>\n",
       "      <td>-34.599128</td>\n",
       "      <td>PEATON-AUTO</td>\n",
       "      <td>PEATON</td>\n",
       "      <td>AUTO</td>\n",
       "      <td>102357.437468</td>\n",
       "      <td>103343.520028</td>\n",
       "      <td>-132.716074</td>\n",
       "      <td>-86.327011</td>\n",
       "    </tr>\n",
       "  </tbody>\n",
       "</table>\n",
       "<p>8 rows × 22 columns</p>\n",
       "</div>"
      ],
      "text/plain": [
       "           ID  N_VICTIMAS      FECHA  AAAA  MM  DD      HORA  HH  \\\n",
       "0   2016-0001           1 2016-01-01  2016   1   1  04:00:00   4   \n",
       "1   2016-0002           1 2016-01-02  2016   1   2  01:15:00   1   \n",
       "4   2016-0005           1 2016-01-21  2016   1  21  05:20:00   5   \n",
       "5   2016-0008           1 2016-01-24  2016   1  24  18:30:00  18   \n",
       "6   2016-0009           1 2016-01-24  2016   1  24  19:10:00  19   \n",
       "7   2016-0010           1 2016-01-29  2016   1  29  15:20:00  15   \n",
       "8   2016-0012           1 2016-02-08  2016   2   8  01:20:00   1   \n",
       "10  2016-0015           1 2016-02-14  2016   2  14  05:14:00   5   \n",
       "\n",
       "                              LUGAR_DEL_HECHO TIPO_DE_CALLE  ...  \\\n",
       "0   AV PIEDRA BUENA Y AV FERNANDEZ DE LA CRUZ       AVENIDA  ...   \n",
       "1           AV GRAL PAZ  Y AV DE LOS CORRALES      GRAL PAZ  ...   \n",
       "4   AV SAN JUAN Y PRESIDENTE LUIS SAENZ PEÑA        AVENIDA  ...   \n",
       "5              AV 27 DE FEBRERO Y AV ESCALADA       AVENIDA  ...   \n",
       "6                NOGOYA Y JOAQUIN V. GONZALES         CALLE  ...   \n",
       "7         AV GENERAL PAZ Y AV DE LOS CORRALES      GRAL PAZ  ...   \n",
       "8          AV BELGRANO Y BERNARDO DE IRIGOYEN       AVENIDA  ...   \n",
       "10                 AV SCALABRINI ORTIZ Y VERA       AVENIDA  ...   \n",
       "\n",
       "                                  XY (CABA)      pos x      pos y  \\\n",
       "0     Point (98896.78238426 93532.43437792) -58.475340 -34.687570   \n",
       "1     Point (95832.05571093 95505.41641999) -58.508775 -34.669777   \n",
       "4   Point (106980.32827929 100752.16915795) -58.387183 -34.622466   \n",
       "5    Point (101721.59002217 93844.25656649) -58.444513 -34.684759   \n",
       "6    Point (96545.87592078 102330.67262199) -58.500959 -34.608254   \n",
       "7     Point (95832.05571093 95505.41641999) -58.508775 -34.669777   \n",
       "8   Point (107595.35084333 101797.50052813) -58.380486 -34.613039   \n",
       "10  Point (102357.43746828 103343.52002839) -58.437600 -34.599128   \n",
       "\n",
       "       PARTICIPANTES  VICTIMA      ACUSADO  Coordenadas_x  Coordenadas_y  \\\n",
       "0          MOTO-AUTO     MOTO         AUTO   98896.782384   93532.434378   \n",
       "1     AUTO-PASAJEROS     AUTO    PASAJEROS   95832.055711   95505.416420   \n",
       "4     MOTO-PASAJEROS     MOTO    PASAJEROS  106980.328279  100752.169158   \n",
       "5   MOTO-OBJETO FIJO     MOTO  OBJETO FIJO  101721.590022   93844.256566   \n",
       "6          MOTO-AUTO     MOTO         AUTO   96545.875921  102330.672622   \n",
       "7          MOTO-AUTO     MOTO         AUTO   95832.055711   95505.416420   \n",
       "8        MOTO-CARGAS     MOTO       CARGAS  107595.350843  101797.500528   \n",
       "10       PEATON-AUTO   PEATON         AUTO  102357.437468  103343.520028   \n",
       "\n",
       "      longitud    latitud  \n",
       "0  -134.158453 -86.317548  \n",
       "1  -133.987167 -86.286895  \n",
       "4  -132.909407 -86.372763  \n",
       "5  -134.027736 -86.341536  \n",
       "6  -133.049127 -86.278847  \n",
       "7  -133.987167 -86.286895  \n",
       "8  -132.744818 -86.375800  \n",
       "10 -132.716074 -86.327011  \n",
       "\n",
       "[8 rows x 22 columns]"
      ]
     },
     "execution_count": 361,
     "metadata": {},
     "output_type": "execute_result"
    }
   ],
   "source": [
    "data.head(8)"
   ]
  },
  {
   "cell_type": "markdown",
   "metadata": {},
   "source": [
    "Se elimina la Columna \"XY (CABA)\" "
   ]
  },
  {
   "cell_type": "code",
   "execution_count": 362,
   "metadata": {},
   "outputs": [],
   "source": [
    "\n",
    "data = data.drop(columns=[\"XY (CABA)\" ])"
   ]
  },
  {
   "cell_type": "markdown",
   "metadata": {},
   "source": [
    "Ajuste de las columnas: \"pos x \" y \"pos y\"   "
   ]
  },
  {
   "cell_type": "code",
   "execution_count": 286,
   "metadata": {},
   "outputs": [
    {
     "name": "stdout",
     "output_type": "stream",
     "text": [
      "          ID  N_VICTIMAS      FECHA  AAAA  MM  DD      HORA  HH  \\\n",
      "0  2016-0001           1 2016-01-01  2016   1   1  04:00:00   4   \n",
      "1  2016-0002           1 2016-01-02  2016   1   2  01:15:00   1   \n",
      "4  2016-0005           1 2016-01-21  2016   1  21  05:20:00   5   \n",
      "5  2016-0008           1 2016-01-24  2016   1  24  18:30:00  18   \n",
      "6  2016-0009           1 2016-01-24  2016   1  24  19:10:00  19   \n",
      "\n",
      "                             LUGAR_DEL_HECHO TIPO_DE_CALLE  COMUNA      pos x  \\\n",
      "0  AV PIEDRA BUENA Y AV FERNANDEZ DE LA CRUZ       AVENIDA       8 -58.475340   \n",
      "1          AV GRAL PAZ  Y AV DE LOS CORRALES      GRAL PAZ       9 -58.508775   \n",
      "4  AV SAN JUAN Y PRESIDENTE LUIS SAENZ PEÑA        AVENIDA       1 -58.387183   \n",
      "5             AV 27 DE FEBRERO Y AV ESCALADA       AVENIDA       8 -58.444513   \n",
      "6               NOGOYA Y JOAQUIN V. GONZALES         CALLE      11 -58.500959   \n",
      "\n",
      "       pos y     PARTICIPANTES VICTIMA      ACUSADO  Coordenadas_x  \\\n",
      "0 -34.687570         MOTO-AUTO    MOTO         AUTO   98896.782384   \n",
      "1 -34.669777    AUTO-PASAJEROS    AUTO    PASAJEROS   95832.055711   \n",
      "4 -34.622466    MOTO-PASAJEROS    MOTO    PASAJEROS  106980.328279   \n",
      "5 -34.684759  MOTO-OBJETO FIJO    MOTO  OBJETO FIJO  101721.590022   \n",
      "6 -34.608254         MOTO-AUTO    MOTO         AUTO   96545.875921   \n",
      "\n",
      "   Coordenadas_y    longitud    latitud  \n",
      "0   93532.434378 -134.158453 -86.317548  \n",
      "1   95505.416420 -133.987167 -86.286895  \n",
      "4  100752.169158 -132.909407 -86.372763  \n",
      "5   93844.256566 -134.027736 -86.341536  \n",
      "6  102330.672622 -133.049127 -86.278847  \n"
     ]
    }
   ],
   "source": [
    "\n",
    "# Convierte las columnas 'pos x' y 'pos y' a tipo float \n",
    "data['pos x'] = pd.to_numeric(data['pos x'], errors='coerce')\n",
    "data['pos y'] = pd.to_numeric(data['pos y'], errors='coerce')\n",
    "\n",
    "# Definir los límites válidos para CABA (Ciudad Autónoma de Buenos Aires)\n",
    "lat_min, lat_max = -34.75, -34.50\n",
    "lon_min, lon_max = -58.60, -58.35\n",
    "\n",
    "# Filtrar las coordenadas válidas: se mantendrán solo las que estén dentro del rango\n",
    "valid_coords = (data['pos x'].between(lon_min, lon_max)) & (data['pos y'].between(lat_min, lat_max))\n",
    "\n",
    "# Establecer las posiciones no válidas como NaN\n",
    "data.loc[~valid_coords, ['pos x', 'pos y']] = np.nan\n",
    "\n",
    "# Verifica los primeros registros después de aplicar la validación\n",
    "print(data.head())\n"
   ]
  },
  {
   "cell_type": "code",
   "execution_count": 363,
   "metadata": {},
   "outputs": [
    {
     "name": "stdout",
     "output_type": "stream",
     "text": [
      "<class 'pandas.core.frame.DataFrame'>\n",
      "Index: 504 entries, 0 to 693\n",
      "Data columns (total 21 columns):\n",
      " #   Column                 Non-Null Count  Dtype         \n",
      "---  ------                 --------------  -----         \n",
      " 0   ID                     504 non-null    object        \n",
      " 1   N_VICTIMAS             504 non-null    int64         \n",
      " 2   FECHA                  504 non-null    datetime64[ns]\n",
      " 3   AAAA                   504 non-null    int64         \n",
      " 4   MM                     504 non-null    int64         \n",
      " 5   DD                     504 non-null    int64         \n",
      " 6   HORA                   504 non-null    object        \n",
      " 7   HH                     504 non-null    int64         \n",
      " 8   LUGAR_DEL_HECHO        504 non-null    object        \n",
      " 9   TIPO_DE_CALLE          504 non-null    object        \n",
      " 10  Dirección Normalizada  504 non-null    object        \n",
      " 11  COMUNA                 504 non-null    int64         \n",
      " 12  pos x                  504 non-null    float64       \n",
      " 13  pos y                  504 non-null    float64       \n",
      " 14  PARTICIPANTES          504 non-null    object        \n",
      " 15  VICTIMA                504 non-null    object        \n",
      " 16  ACUSADO                504 non-null    object        \n",
      " 17  Coordenadas_x          504 non-null    float64       \n",
      " 18  Coordenadas_y          504 non-null    float64       \n",
      " 19  longitud               504 non-null    float64       \n",
      " 20  latitud                504 non-null    float64       \n",
      "dtypes: datetime64[ns](1), float64(6), int64(6), object(8)\n",
      "memory usage: 86.6+ KB\n"
     ]
    }
   ],
   "source": [
    "data.info()"
   ]
  },
  {
   "cell_type": "code",
   "execution_count": 364,
   "metadata": {},
   "outputs": [
    {
     "data": {
      "image/png": "[encoded data removed]",
      "text/plain": [
       "<Figure size 1000x600 with 1 Axes>"
      ]
     },
     "metadata": {},
     "output_type": "display_data"
    }
   ],
   "source": [
    "\n",
    "# Crear un diagrama de cajas para 'pos x' y 'pos y'\n",
    "plt.figure(figsize=(10, 6))\n",
    "sns.boxplot(data=data[['pos x', 'pos y']])\n",
    "\n",
    "# Etiquetas y título\n",
    "plt.title('Coordenadas (pos x y pos y)')\n",
    "plt.ylabel('Valor de la coordenada')\n",
    "\n",
    "# Mostrar el gráfico\n",
    "plt.show()"
   ]
  },
  {
   "cell_type": "markdown",
   "metadata": {},
   "source": [
    "¡Y listo, ya hemos realizado la limpieza de nuestro set de datos!\n",
    "\n",
    "Originalmente tenía 696 registros y 21 columnas. El dataset resultante tiene 504 filas (191 menos) y 20 columnas.\n",
    "\n",
    "El set de datos ya está listo para el Análisis Exploratorio."
   ]
  },
  {
   "cell_type": "code",
   "execution_count": 365,
   "metadata": {},
   "outputs": [
    {
     "name": "stdout",
     "output_type": "stream",
     "text": [
      "<class 'pandas.core.frame.DataFrame'>\n",
      "Index: 504 entries, 0 to 693\n",
      "Data columns (total 21 columns):\n",
      " #   Column                 Non-Null Count  Dtype         \n",
      "---  ------                 --------------  -----         \n",
      " 0   ID                     504 non-null    object        \n",
      " 1   N_VICTIMAS             504 non-null    int64         \n",
      " 2   FECHA                  504 non-null    datetime64[ns]\n",
      " 3   AAAA                   504 non-null    int64         \n",
      " 4   MM                     504 non-null    int64         \n",
      " 5   DD                     504 non-null    int64         \n",
      " 6   HORA                   504 non-null    object        \n",
      " 7   HH                     504 non-null    int64         \n",
      " 8   LUGAR_DEL_HECHO        504 non-null    object        \n",
      " 9   TIPO_DE_CALLE          504 non-null    object        \n",
      " 10  Dirección Normalizada  504 non-null    object        \n",
      " 11  COMUNA                 504 non-null    int64         \n",
      " 12  pos x                  504 non-null    float64       \n",
      " 13  pos y                  504 non-null    float64       \n",
      " 14  PARTICIPANTES          504 non-null    object        \n",
      " 15  VICTIMA                504 non-null    object        \n",
      " 16  ACUSADO                504 non-null    object        \n",
      " 17  Coordenadas_x          504 non-null    float64       \n",
      " 18  Coordenadas_y          504 non-null    float64       \n",
      " 19  longitud               504 non-null    float64       \n",
      " 20  latitud                504 non-null    float64       \n",
      "dtypes: datetime64[ns](1), float64(6), int64(6), object(8)\n",
      "memory usage: 86.6+ KB\n"
     ]
    }
   ],
   "source": [
    "data.info()"
   ]
  },
  {
   "cell_type": "code",
   "execution_count": 367,
   "metadata": {},
   "outputs": [],
   "source": [
    "data.to_excel('homicidios_listo.xlsx', index=False)"
   ]
  }
 ],
 "metadata": {
  "kernelspec": {
   "display_name": "Python 3",
   "language": "python",
   "name": "python3"
  },
  "language_info": {
   "codemirror_mode": {
    "name": "ipython",
    "version": 3
   },
   "file_extension": ".py",
   "mimetype": "text/x-python",
   "name": "python",
   "nbconvert_exporter": "python",
   "pygments_lexer": "ipython3",
   "version": "3.11.8"
  }
 },
 "nbformat": 4,
 "nbformat_minor": 2
}
